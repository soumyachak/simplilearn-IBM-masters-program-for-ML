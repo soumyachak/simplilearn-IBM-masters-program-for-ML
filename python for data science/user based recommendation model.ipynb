{
 "cells": [
  {
   "cell_type": "code",
   "execution_count": 1,
   "metadata": {},
   "outputs": [],
   "source": [
    "# Importing the necessary libraries\n",
    "import numpy as np\n",
    "import pandas as pd\n",
    "import matplotlib.pyplot as plt\n",
    "import seaborn as sns"
   ]
  },
  {
   "cell_type": "code",
   "execution_count": 2,
   "metadata": {},
   "outputs": [
    {
     "data": {
      "text/html": [
       "<div>\n",
       "<style scoped>\n",
       "    .dataframe tbody tr th:only-of-type {\n",
       "        vertical-align: middle;\n",
       "    }\n",
       "\n",
       "    .dataframe tbody tr th {\n",
       "        vertical-align: top;\n",
       "    }\n",
       "\n",
       "    .dataframe thead th {\n",
       "        text-align: right;\n",
       "    }\n",
       "</style>\n",
       "<table border=\"1\" class=\"dataframe\">\n",
       "  <thead>\n",
       "    <tr style=\"text-align: right;\">\n",
       "      <th></th>\n",
       "      <th>user_id</th>\n",
       "      <th>Movie1</th>\n",
       "      <th>Movie2</th>\n",
       "      <th>Movie3</th>\n",
       "      <th>Movie4</th>\n",
       "      <th>Movie5</th>\n",
       "      <th>Movie6</th>\n",
       "      <th>Movie7</th>\n",
       "      <th>Movie8</th>\n",
       "      <th>Movie9</th>\n",
       "      <th>...</th>\n",
       "      <th>Movie197</th>\n",
       "      <th>Movie198</th>\n",
       "      <th>Movie199</th>\n",
       "      <th>Movie200</th>\n",
       "      <th>Movie201</th>\n",
       "      <th>Movie202</th>\n",
       "      <th>Movie203</th>\n",
       "      <th>Movie204</th>\n",
       "      <th>Movie205</th>\n",
       "      <th>Movie206</th>\n",
       "    </tr>\n",
       "  </thead>\n",
       "  <tbody>\n",
       "    <tr>\n",
       "      <th>0</th>\n",
       "      <td>A3R5OBKS7OM2IR</td>\n",
       "      <td>5.0</td>\n",
       "      <td>5.0</td>\n",
       "      <td>NaN</td>\n",
       "      <td>NaN</td>\n",
       "      <td>NaN</td>\n",
       "      <td>NaN</td>\n",
       "      <td>NaN</td>\n",
       "      <td>NaN</td>\n",
       "      <td>NaN</td>\n",
       "      <td>...</td>\n",
       "      <td>NaN</td>\n",
       "      <td>NaN</td>\n",
       "      <td>NaN</td>\n",
       "      <td>NaN</td>\n",
       "      <td>NaN</td>\n",
       "      <td>NaN</td>\n",
       "      <td>NaN</td>\n",
       "      <td>NaN</td>\n",
       "      <td>NaN</td>\n",
       "      <td>NaN</td>\n",
       "    </tr>\n",
       "    <tr>\n",
       "      <th>1</th>\n",
       "      <td>AH3QC2PC1VTGP</td>\n",
       "      <td>NaN</td>\n",
       "      <td>NaN</td>\n",
       "      <td>2.0</td>\n",
       "      <td>NaN</td>\n",
       "      <td>NaN</td>\n",
       "      <td>NaN</td>\n",
       "      <td>NaN</td>\n",
       "      <td>NaN</td>\n",
       "      <td>NaN</td>\n",
       "      <td>...</td>\n",
       "      <td>NaN</td>\n",
       "      <td>NaN</td>\n",
       "      <td>NaN</td>\n",
       "      <td>NaN</td>\n",
       "      <td>NaN</td>\n",
       "      <td>NaN</td>\n",
       "      <td>NaN</td>\n",
       "      <td>NaN</td>\n",
       "      <td>NaN</td>\n",
       "      <td>NaN</td>\n",
       "    </tr>\n",
       "  </tbody>\n",
       "</table>\n",
       "<p>2 rows × 207 columns</p>\n",
       "</div>"
      ],
      "text/plain": [
       "          user_id  Movie1  Movie2  Movie3  Movie4  Movie5  Movie6  Movie7  \\\n",
       "0  A3R5OBKS7OM2IR     5.0     5.0     NaN     NaN     NaN     NaN     NaN   \n",
       "1   AH3QC2PC1VTGP     NaN     NaN     2.0     NaN     NaN     NaN     NaN   \n",
       "\n",
       "   Movie8  Movie9  ...  Movie197  Movie198  Movie199  Movie200  Movie201  \\\n",
       "0     NaN     NaN  ...       NaN       NaN       NaN       NaN       NaN   \n",
       "1     NaN     NaN  ...       NaN       NaN       NaN       NaN       NaN   \n",
       "\n",
       "   Movie202  Movie203  Movie204  Movie205  Movie206  \n",
       "0       NaN       NaN       NaN       NaN       NaN  \n",
       "1       NaN       NaN       NaN       NaN       NaN  \n",
       "\n",
       "[2 rows x 207 columns]"
      ]
     },
     "execution_count": 2,
     "metadata": {},
     "output_type": "execute_result"
    }
   ],
   "source": [
    "df = pd.read_csv(\"Amazon - Movies and TV Ratings.csv\")\n",
    "df.head(2)"
   ]
  },
  {
   "cell_type": "markdown",
   "metadata": {},
   "source": [
    "## Exploratory Data Analysis"
   ]
  },
  {
   "cell_type": "code",
   "execution_count": 50,
   "metadata": {},
   "outputs": [
    {
     "data": {
      "text/html": [
       "<div>\n",
       "<style scoped>\n",
       "    .dataframe tbody tr th:only-of-type {\n",
       "        vertical-align: middle;\n",
       "    }\n",
       "\n",
       "    .dataframe tbody tr th {\n",
       "        vertical-align: top;\n",
       "    }\n",
       "\n",
       "    .dataframe thead th {\n",
       "        text-align: right;\n",
       "    }\n",
       "</style>\n",
       "<table border=\"1\" class=\"dataframe\">\n",
       "  <thead>\n",
       "    <tr style=\"text-align: right;\">\n",
       "      <th></th>\n",
       "      <th>0</th>\n",
       "    </tr>\n",
       "  </thead>\n",
       "  <tbody>\n",
       "    <tr>\n",
       "      <th>Movie127</th>\n",
       "      <td>2313</td>\n",
       "    </tr>\n",
       "    <tr>\n",
       "      <th>Movie140</th>\n",
       "      <td>578</td>\n",
       "    </tr>\n",
       "    <tr>\n",
       "      <th>Movie16</th>\n",
       "      <td>320</td>\n",
       "    </tr>\n",
       "    <tr>\n",
       "      <th>Movie103</th>\n",
       "      <td>272</td>\n",
       "    </tr>\n",
       "    <tr>\n",
       "      <th>Movie29</th>\n",
       "      <td>243</td>\n",
       "    </tr>\n",
       "  </tbody>\n",
       "</table>\n",
       "</div>"
      ],
      "text/plain": [
       "             0\n",
       "Movie127  2313\n",
       "Movie140   578\n",
       "Movie16    320\n",
       "Movie103   272\n",
       "Movie29    243"
      ]
     },
     "execution_count": 50,
     "metadata": {},
     "output_type": "execute_result"
    }
   ],
   "source": [
    "# Which movies have maximum views?\n",
    "\n",
    "df.drop('user_id',axis=1).count().sort_values(ascending=False).to_frame().head()"
   ]
  },
  {
   "cell_type": "code",
   "execution_count": 51,
   "metadata": {},
   "outputs": [
    {
     "data": {
      "text/html": [
       "<div>\n",
       "<style scoped>\n",
       "    .dataframe tbody tr th:only-of-type {\n",
       "        vertical-align: middle;\n",
       "    }\n",
       "\n",
       "    .dataframe tbody tr th {\n",
       "        vertical-align: top;\n",
       "    }\n",
       "\n",
       "    .dataframe thead th {\n",
       "        text-align: right;\n",
       "    }\n",
       "</style>\n",
       "<table border=\"1\" class=\"dataframe\">\n",
       "  <thead>\n",
       "    <tr style=\"text-align: right;\">\n",
       "      <th></th>\n",
       "      <th>0</th>\n",
       "    </tr>\n",
       "  </thead>\n",
       "  <tbody>\n",
       "    <tr>\n",
       "      <th>Movie127</th>\n",
       "      <td>9511.0</td>\n",
       "    </tr>\n",
       "    <tr>\n",
       "      <th>Movie140</th>\n",
       "      <td>2794.0</td>\n",
       "    </tr>\n",
       "    <tr>\n",
       "      <th>Movie16</th>\n",
       "      <td>1446.0</td>\n",
       "    </tr>\n",
       "    <tr>\n",
       "      <th>Movie103</th>\n",
       "      <td>1241.0</td>\n",
       "    </tr>\n",
       "    <tr>\n",
       "      <th>Movie29</th>\n",
       "      <td>1168.0</td>\n",
       "    </tr>\n",
       "  </tbody>\n",
       "</table>\n",
       "</div>"
      ],
      "text/plain": [
       "               0\n",
       "Movie127  9511.0\n",
       "Movie140  2794.0\n",
       "Movie16   1446.0\n",
       "Movie103  1241.0\n",
       "Movie29   1168.0"
      ]
     },
     "execution_count": 51,
     "metadata": {},
     "output_type": "execute_result"
    }
   ],
   "source": [
    "# Which movies have maximum ratings?\n",
    "\n",
    "df.drop('user_id',axis=1).sum().sort_values(ascending=False).to_frame().head()"
   ]
  },
  {
   "cell_type": "code",
   "execution_count": 54,
   "metadata": {},
   "outputs": [
    {
     "data": {
      "text/html": [
       "<div>\n",
       "<style scoped>\n",
       "    .dataframe tbody tr th:only-of-type {\n",
       "        vertical-align: middle;\n",
       "    }\n",
       "\n",
       "    .dataframe tbody tr th {\n",
       "        vertical-align: top;\n",
       "    }\n",
       "\n",
       "    .dataframe thead th {\n",
       "        text-align: right;\n",
       "    }\n",
       "</style>\n",
       "<table border=\"1\" class=\"dataframe\">\n",
       "  <thead>\n",
       "    <tr style=\"text-align: right;\">\n",
       "      <th></th>\n",
       "      <th>0</th>\n",
       "    </tr>\n",
       "  </thead>\n",
       "  <tbody>\n",
       "    <tr>\n",
       "      <th>Movie1</th>\n",
       "      <td>5.0</td>\n",
       "    </tr>\n",
       "    <tr>\n",
       "      <th>Movie66</th>\n",
       "      <td>5.0</td>\n",
       "    </tr>\n",
       "    <tr>\n",
       "      <th>Movie76</th>\n",
       "      <td>5.0</td>\n",
       "    </tr>\n",
       "    <tr>\n",
       "      <th>Movie75</th>\n",
       "      <td>5.0</td>\n",
       "    </tr>\n",
       "    <tr>\n",
       "      <th>Movie74</th>\n",
       "      <td>5.0</td>\n",
       "    </tr>\n",
       "  </tbody>\n",
       "</table>\n",
       "</div>"
      ],
      "text/plain": [
       "           0\n",
       "Movie1   5.0\n",
       "Movie66  5.0\n",
       "Movie76  5.0\n",
       "Movie75  5.0\n",
       "Movie74  5.0"
      ]
     },
     "execution_count": 54,
     "metadata": {},
     "output_type": "execute_result"
    }
   ],
   "source": [
    "# What is the average rating for each movie?\n",
    "\n",
    "df.drop('user_id',axis=1).mean().sort_values(ascending=False).to_frame().head()"
   ]
  },
  {
   "cell_type": "code",
   "execution_count": 66,
   "metadata": {},
   "outputs": [
    {
     "data": {
      "text/plain": [
       "['Movie1',\n",
       " 'Movie66',\n",
       " 'Movie76',\n",
       " 'Movie75',\n",
       " 'Movie74',\n",
       " 'Movie143',\n",
       " 'Movie72',\n",
       " 'Movie145',\n",
       " 'Movie70',\n",
       " 'Movie147',\n",
       " 'Movie68',\n",
       " 'Movie148',\n",
       " 'Movie65',\n",
       " 'Movie78',\n",
       " 'Movie149',\n",
       " 'Movie63',\n",
       " 'Movie150',\n",
       " 'Movie61',\n",
       " 'Movie152',\n",
       " 'Movie153',\n",
       " 'Movie157',\n",
       " 'Movie57',\n",
       " 'Movie56',\n",
       " 'Movie55',\n",
       " 'Movie77',\n",
       " 'Movie79',\n",
       " 'Movie164',\n",
       " 'Movie123',\n",
       " 'Movie106',\n",
       " 'Movie101',\n",
       " 'Movie112',\n",
       " 'Movie116',\n",
       " 'Movie98',\n",
       " 'Movie118',\n",
       " 'Movie96',\n",
       " 'Movie120',\n",
       " 'Movie122',\n",
       " 'Movie93',\n",
       " 'Movie128',\n",
       " 'Movie142',\n",
       " 'Movie131',\n",
       " 'Movie132',\n",
       " 'Movie133',\n",
       " 'Movie87',\n",
       " 'Movie135',\n",
       " 'Movie85',\n",
       " 'Movie84',\n",
       " 'Movie136',\n",
       " 'Movie82',\n",
       " 'Movie139',\n",
       " 'Movie54',\n",
       " 'Movie165',\n",
       " 'Movie2',\n",
       " 'Movie189',\n",
       " 'Movie181',\n",
       " 'Movie23',\n",
       " 'Movie22',\n",
       " 'Movie21',\n",
       " 'Movie183',\n",
       " 'Movie186',\n",
       " 'Movie18',\n",
       " 'Movie187',\n",
       " 'Movie188',\n",
       " 'Movie15',\n",
       " 'Movie13',\n",
       " 'Movie180',\n",
       " 'Movie12',\n",
       " 'Movie11',\n",
       " 'Movie10',\n",
       " 'Movie9',\n",
       " 'Movie8',\n",
       " 'Movie7',\n",
       " 'Movie191',\n",
       " 'Movie198',\n",
       " 'Movie4',\n",
       " 'Movie199',\n",
       " 'Movie25',\n",
       " 'Movie27',\n",
       " 'Movie167',\n",
       " 'Movie40',\n",
       " 'Movie50',\n",
       " 'Movie49',\n",
       " 'Movie48',\n",
       " 'Movie47',\n",
       " 'Movie46',\n",
       " 'Movie168',\n",
       " 'Movie44',\n",
       " 'Movie169',\n",
       " 'Movie42',\n",
       " 'Movie41',\n",
       " 'Movie39',\n",
       " 'Movie178',\n",
       " 'Movie38',\n",
       " 'Movie37',\n",
       " 'Movie36',\n",
       " 'Movie35',\n",
       " 'Movie34',\n",
       " 'Movie33',\n",
       " 'Movie175',\n",
       " 'Movie31',\n",
       " 'Movie176',\n",
       " 'Movie177',\n",
       " 'Movie105']"
      ]
     },
     "execution_count": 66,
     "metadata": {},
     "output_type": "execute_result"
    }
   ],
   "source": [
    "# Define the top 5 movies with the maximum ratings\n",
    "\n",
    "z = df.drop('user_id',axis=1).mean().sort_values(ascending=False).to_frame()\n",
    "list(z[0][z[0]==5].index)"
   ]
  },
  {
   "cell_type": "code",
   "execution_count": 67,
   "metadata": {},
   "outputs": [
    {
     "data": {
      "text/html": [
       "<div>\n",
       "<style scoped>\n",
       "    .dataframe tbody tr th:only-of-type {\n",
       "        vertical-align: middle;\n",
       "    }\n",
       "\n",
       "    .dataframe tbody tr th {\n",
       "        vertical-align: top;\n",
       "    }\n",
       "\n",
       "    .dataframe thead th {\n",
       "        text-align: right;\n",
       "    }\n",
       "</style>\n",
       "<table border=\"1\" class=\"dataframe\">\n",
       "  <thead>\n",
       "    <tr style=\"text-align: right;\">\n",
       "      <th></th>\n",
       "      <th>0</th>\n",
       "    </tr>\n",
       "  </thead>\n",
       "  <tbody>\n",
       "    <tr>\n",
       "      <th>Movie1</th>\n",
       "      <td>1</td>\n",
       "    </tr>\n",
       "    <tr>\n",
       "      <th>Movie71</th>\n",
       "      <td>1</td>\n",
       "    </tr>\n",
       "    <tr>\n",
       "      <th>Movie145</th>\n",
       "      <td>1</td>\n",
       "    </tr>\n",
       "    <tr>\n",
       "      <th>Movie69</th>\n",
       "      <td>1</td>\n",
       "    </tr>\n",
       "    <tr>\n",
       "      <th>Movie68</th>\n",
       "      <td>1</td>\n",
       "    </tr>\n",
       "  </tbody>\n",
       "</table>\n",
       "</div>"
      ],
      "text/plain": [
       "          0\n",
       "Movie1    1\n",
       "Movie71   1\n",
       "Movie145  1\n",
       "Movie69   1\n",
       "Movie68   1"
      ]
     },
     "execution_count": 67,
     "metadata": {},
     "output_type": "execute_result"
    }
   ],
   "source": [
    "# Define the top 5 movies with the least audience.\n",
    "\n",
    "df.drop('user_id',axis=1).count().sort_values(ascending=True).to_frame().head()"
   ]
  },
  {
   "cell_type": "markdown",
   "metadata": {},
   "source": [
    "## Recommendation Model"
   ]
  },
  {
   "cell_type": "code",
   "execution_count": 68,
   "metadata": {},
   "outputs": [],
   "source": [
    "#importing libiraies\n",
    "from surprise import Reader\n",
    "from surprise import Dataset\n",
    "from surprise import accuracy\n",
    "from surprise import SVD\n",
    "from surprise.model_selection import train_test_split"
   ]
  },
  {
   "cell_type": "code",
   "execution_count": 70,
   "metadata": {},
   "outputs": [
    {
     "data": {
      "text/html": [
       "<div>\n",
       "<style scoped>\n",
       "    .dataframe tbody tr th:only-of-type {\n",
       "        vertical-align: middle;\n",
       "    }\n",
       "\n",
       "    .dataframe tbody tr th {\n",
       "        vertical-align: top;\n",
       "    }\n",
       "\n",
       "    .dataframe thead th {\n",
       "        text-align: right;\n",
       "    }\n",
       "</style>\n",
       "<table border=\"1\" class=\"dataframe\">\n",
       "  <thead>\n",
       "    <tr style=\"text-align: right;\">\n",
       "      <th></th>\n",
       "      <th>user_id</th>\n",
       "      <th>Movies</th>\n",
       "      <th>Rating</th>\n",
       "    </tr>\n",
       "  </thead>\n",
       "  <tbody>\n",
       "    <tr>\n",
       "      <th>0</th>\n",
       "      <td>A3R5OBKS7OM2IR</td>\n",
       "      <td>Movie1</td>\n",
       "      <td>5.0</td>\n",
       "    </tr>\n",
       "    <tr>\n",
       "      <th>1</th>\n",
       "      <td>AH3QC2PC1VTGP</td>\n",
       "      <td>Movie1</td>\n",
       "      <td>NaN</td>\n",
       "    </tr>\n",
       "    <tr>\n",
       "      <th>2</th>\n",
       "      <td>A3LKP6WPMP9UKX</td>\n",
       "      <td>Movie1</td>\n",
       "      <td>NaN</td>\n",
       "    </tr>\n",
       "    <tr>\n",
       "      <th>3</th>\n",
       "      <td>AVIY68KEPQ5ZD</td>\n",
       "      <td>Movie1</td>\n",
       "      <td>NaN</td>\n",
       "    </tr>\n",
       "    <tr>\n",
       "      <th>4</th>\n",
       "      <td>A1CV1WROP5KTTW</td>\n",
       "      <td>Movie1</td>\n",
       "      <td>NaN</td>\n",
       "    </tr>\n",
       "  </tbody>\n",
       "</table>\n",
       "</div>"
      ],
      "text/plain": [
       "          user_id  Movies  Rating\n",
       "0  A3R5OBKS7OM2IR  Movie1     5.0\n",
       "1   AH3QC2PC1VTGP  Movie1     NaN\n",
       "2  A3LKP6WPMP9UKX  Movie1     NaN\n",
       "3   AVIY68KEPQ5ZD  Movie1     NaN\n",
       "4  A1CV1WROP5KTTW  Movie1     NaN"
      ]
     },
     "execution_count": 70,
     "metadata": {},
     "output_type": "execute_result"
    }
   ],
   "source": [
    "# rearranging data\n",
    "\n",
    "movie_data = df.melt(id_vars = df.columns[0],value_vars=df.columns[1:],var_name=\"Movies\",value_name=\"Rating\")\n",
    "movie_data.head()"
   ]
  },
  {
   "cell_type": "code",
   "execution_count": 71,
   "metadata": {},
   "outputs": [],
   "source": [
    "# Divide the data into training and test data\n",
    "\n",
    "rd = Reader(rating_scale=(-1,10))\n",
    "data = Dataset.load_from_df(movie_data.fillna(0),reader=rd)\n",
    "train_data,test_data = train_test_split(data,test_size=0.25)"
   ]
  },
  {
   "cell_type": "code",
   "execution_count": 73,
   "metadata": {},
   "outputs": [
    {
     "data": {
      "text/plain": [
       "<surprise.prediction_algorithms.matrix_factorization.SVD at 0x1764c1ddcd0>"
      ]
     },
     "execution_count": 73,
     "metadata": {},
     "output_type": "execute_result"
    }
   ],
   "source": [
    "# building recommender system\n",
    "svd = SVD()\n",
    "svd.fit(train_data)"
   ]
  },
  {
   "cell_type": "code",
   "execution_count": 80,
   "metadata": {},
   "outputs": [
    {
     "name": "stdout",
     "output_type": "stream",
     "text": [
      "RMSE: 0.2807\n"
     ]
    },
    {
     "data": {
      "text/plain": [
       "0.2806615821400472"
      ]
     },
     "execution_count": 80,
     "metadata": {},
     "output_type": "execute_result"
    }
   ],
   "source": [
    "# Make predictions on the test data\n",
    "\n",
    "pred = svd.test(test_data)\n",
    "accuracy.rmse(pred)"
   ]
  },
  {
   "cell_type": "code",
   "execution_count": 82,
   "metadata": {},
   "outputs": [
    {
     "data": {
      "text/plain": [
       "[Prediction(uid='A2WOPJ88JJN43X', iid='Movie98', r_ui=0.0, est=0.021625586363591257, details={'was_impossible': False}),\n",
       " Prediction(uid='A3NQU1649SH0Q4', iid='Movie91', r_ui=0.0, est=0.031243767864821165, details={'was_impossible': False}),\n",
       " Prediction(uid='APASOUCF2UD42', iid='Movie157', r_ui=0.0, est=-0.0002891684836278264, details={'was_impossible': False}),\n",
       " Prediction(uid='A236ZKW9KLRLJJ', iid='Movie45', r_ui=0.0, est=-0.016336983122809214, details={'was_impossible': False}),\n",
       " Prediction(uid='A2WNGZZVOFR40Y', iid='Movie25', r_ui=0.0, est=0.0026618093043789684, details={'was_impossible': False})]"
      ]
     },
     "execution_count": 82,
     "metadata": {},
     "output_type": "execute_result"
    }
   ],
   "source": [
    "pred[:5]"
   ]
  },
  {
   "cell_type": "markdown",
   "metadata": {},
   "source": [
    "## Plotting"
   ]
  },
  {
   "cell_type": "code",
   "execution_count": null,
   "metadata": {},
   "outputs": [],
   "source": [
    "from sklearn.manifold import TSNE\n",
    "tsne = TSNE(n_components=2, n_iter=500, verbose=3, random_state=1)\n",
    "books_embedding = tsne.fit_transform(svd.qi)\n",
    "projection = pd.DataFrame(columns=['x', 'y'], data=books_embedding)\n",
    "projection['title'] = list(df.columns)[1:]"
   ]
  },
  {
   "cell_type": "code",
   "execution_count": 93,
   "metadata": {},
   "outputs": [
    {
     "data": {
      "application/vnd.plotly.v1+json": {
       "config": {
        "plotlyServerURL": "https://plot.ly"
       },
       "data": [
        {
         "hovertemplate": "x=%{x}<br>y=%{y}<br>title=%{text}<extra></extra>",
         "legendgroup": "",
         "marker": {
          "color": "#636efa",
          "symbol": "circle"
         },
         "mode": "markers+text",
         "name": "",
         "orientation": "v",
         "showlegend": false,
         "text": [
          "Movie1",
          "Movie2",
          "Movie3",
          "Movie4",
          "Movie5",
          "Movie6",
          "Movie7",
          "Movie8",
          "Movie9",
          "Movie10",
          "Movie11",
          "Movie12",
          "Movie13",
          "Movie14",
          "Movie15",
          "Movie16",
          "Movie17",
          "Movie18",
          "Movie19",
          "Movie20",
          "Movie21",
          "Movie22",
          "Movie23",
          "Movie24",
          "Movie25",
          "Movie26",
          "Movie27",
          "Movie28",
          "Movie29",
          "Movie30",
          "Movie31",
          "Movie32",
          "Movie33",
          "Movie34",
          "Movie35",
          "Movie36",
          "Movie37",
          "Movie38",
          "Movie39",
          "Movie40",
          "Movie41",
          "Movie42",
          "Movie43",
          "Movie44",
          "Movie45",
          "Movie46",
          "Movie47",
          "Movie48",
          "Movie49",
          "Movie50",
          "Movie51",
          "Movie52",
          "Movie53",
          "Movie54",
          "Movie55",
          "Movie56",
          "Movie57",
          "Movie58",
          "Movie59",
          "Movie60",
          "Movie61",
          "Movie62",
          "Movie63",
          "Movie64",
          "Movie65",
          "Movie66",
          "Movie67",
          "Movie68",
          "Movie69",
          "Movie70",
          "Movie71",
          "Movie72",
          "Movie73",
          "Movie74",
          "Movie75",
          "Movie76",
          "Movie77",
          "Movie78",
          "Movie79",
          "Movie80",
          "Movie81",
          "Movie82",
          "Movie83",
          "Movie84",
          "Movie85",
          "Movie86",
          "Movie87",
          "Movie88",
          "Movie89",
          "Movie90",
          "Movie91",
          "Movie92",
          "Movie93",
          "Movie94",
          "Movie95",
          "Movie96",
          "Movie97",
          "Movie98",
          "Movie99",
          "Movie100",
          "Movie101",
          "Movie102",
          "Movie103",
          "Movie104",
          "Movie105",
          "Movie106",
          "Movie107",
          "Movie108",
          "Movie109",
          "Movie110",
          "Movie111",
          "Movie112",
          "Movie113",
          "Movie114",
          "Movie115",
          "Movie116",
          "Movie117",
          "Movie118",
          "Movie119",
          "Movie120",
          "Movie121",
          "Movie122",
          "Movie123",
          "Movie124",
          "Movie125",
          "Movie126",
          "Movie127",
          "Movie128",
          "Movie129",
          "Movie130",
          "Movie131",
          "Movie132",
          "Movie133",
          "Movie134",
          "Movie135",
          "Movie136",
          "Movie137",
          "Movie138",
          "Movie139",
          "Movie140",
          "Movie141",
          "Movie142",
          "Movie143",
          "Movie144",
          "Movie145",
          "Movie146",
          "Movie147",
          "Movie148",
          "Movie149",
          "Movie150",
          "Movie151",
          "Movie152",
          "Movie153",
          "Movie154",
          "Movie155",
          "Movie156",
          "Movie157",
          "Movie158",
          "Movie159",
          "Movie160",
          "Movie161",
          "Movie162",
          "Movie163",
          "Movie164",
          "Movie165",
          "Movie166",
          "Movie167",
          "Movie168",
          "Movie169",
          "Movie170",
          "Movie171",
          "Movie172",
          "Movie173",
          "Movie174",
          "Movie175",
          "Movie176",
          "Movie177",
          "Movie178",
          "Movie179",
          "Movie180",
          "Movie181",
          "Movie182",
          "Movie183",
          "Movie184",
          "Movie185",
          "Movie186",
          "Movie187",
          "Movie188",
          "Movie189",
          "Movie190",
          "Movie191",
          "Movie192",
          "Movie193",
          "Movie194",
          "Movie195",
          "Movie196",
          "Movie197",
          "Movie198",
          "Movie199",
          "Movie200",
          "Movie201",
          "Movie202",
          "Movie203",
          "Movie204",
          "Movie205",
          "Movie206"
         ],
         "type": "scatter",
         "x": [
          -0.10468655824661255,
          -1.2794269323349,
          1.7161035537719727,
          -0.4121227264404297,
          -0.77393639087677,
          2.729921817779541,
          -0.4239763021469116,
          -0.14141592383384705,
          -3.2307798862457275,
          -1.6235227584838867,
          0.0005404502153396606,
          0.05469679832458496,
          -1.1561734676361084,
          0.4240817427635193,
          0.6572750806808472,
          2.226362466812134,
          -0.9687341451644897,
          -0.3837798833847046,
          0.6219760775566101,
          1.6682746410369873,
          0.4347374439239502,
          0.776887059211731,
          0.19183935225009918,
          -0.84368896484375,
          -0.02107633650302887,
          -1.059210181236267,
          -0.5175052881240845,
          -3.401827335357666,
          -0.06920126080513,
          1.5458567142486572,
          0.17536699771881104,
          0.015565518289804459,
          -0.23202097415924072,
          -0.4334597885608673,
          -1.8802162408828735,
          1.209216594696045,
          0.4228610694408417,
          0.04695160686969757,
          -3.0208499431610107,
          3.479827880859375,
          -3.2280735969543457,
          0.0946742445230484,
          -0.7801752686500549,
          0.07712280750274658,
          -1.5605089664459229,
          2.197849750518799,
          0.07518225908279419,
          -0.2652454376220703,
          1.1789113283157349,
          1.690737247467041,
          0.27898308634757996,
          -1.5505744218826294,
          0.23383259773254395,
          -2.929112672805786,
          3.676539182662964,
          -2.679586410522461,
          0.7775471806526184,
          2.778503179550171,
          0.904600977897644,
          -0.6278377771377563,
          -1.0827065706253052,
          0.10592499375343323,
          -0.028968364000320435,
          0.8435994386672974,
          2.657301902770996,
          1.2423934936523438,
          -0.730587363243103,
          -0.07039469480514526,
          0.25962281227111816,
          -0.015907272696495056,
          1.4650814533233643,
          -0.04326900839805603,
          0.7281566858291626,
          0.4298134744167328,
          0.7716326117515564,
          1.2034590244293213,
          -1.569388508796692,
          1.3069854974746704,
          1.557515025138855,
          2.058027505874634,
          -0.04806949198246002,
          0.10496199876070023,
          1.3679759502410889,
          1.537038803100586,
          -2.197669744491577,
          -1.0614646673202515,
          -0.48357492685317993,
          -2.096770763397217,
          -1.6677175760269165,
          0.9194234013557434,
          -0.05427490174770355,
          0.8166114091873169,
          0.6916193962097168,
          0.2192513346672058,
          0.21067596971988678,
          -2.0349626541137695,
          0.23545584082603455,
          -1.2124590873718262,
          -1.6435171365737915,
          0.0803316980600357,
          -0.8760990500450134,
          0.06092676520347595,
          1.946180820465088,
          -0.14532725512981415,
          0.08291833847761154,
          2.4804470539093018,
          -0.35112783312797546,
          -1.9362326860427856,
          -0.34212374687194824,
          0.5964210033416748,
          1.7137404680252075,
          0.0012851804494857788,
          -1.06731116771698,
          -1.2949697971343994,
          -2.8753409385681152,
          -0.09198230504989624,
          5.829615116119385,
          2.689711093902588,
          2.232170343399048,
          0.7996571660041809,
          -3.0802507400512695,
          0.20729494094848633,
          -1.9315319061279297,
          -0.668853759765625,
          -0.4277050495147705,
          -2.644547939300537,
          -1.0517061948776245,
          1.942649483680725,
          1.733162760734558,
          1.5049917697906494,
          -0.009055227041244507,
          -2.035423755645752,
          1.7140699625015259,
          -4.580905437469482,
          -0.07269930839538574,
          -0.727057695388794,
          -0.7580573558807373,
          -2.7111763954162598,
          -1.1055262088775635,
          2.6650776863098145,
          -0.026819318532943726,
          0.003180071711540222,
          0.08079563081264496,
          0.7594903707504272,
          -0.02394905686378479,
          -0.44868069887161255,
          -0.03955698013305664,
          -0.6617499589920044,
          -0.12590035796165466,
          -0.14724040031433105,
          2.711123466491699,
          0.05276864767074585,
          -1.7950739860534668,
          -2.4343013763427734,
          -2.2458624839782715,
          -1.6564710140228271,
          -4.53725004196167,
          -0.0904754102230072,
          0.7186790704727173,
          -0.9437065720558167,
          1.3700950145721436,
          -0.6586949825286865,
          -0.3298662304878235,
          -0.8847323656082153,
          -0.5837269425392151,
          1.5492539405822754,
          0.04079124331474304,
          -2.674917459487915,
          0.9835691452026367,
          0.5461298227310181,
          0.1956886500120163,
          -0.4173978567123413,
          3.2663443088531494,
          0.3252467215061188,
          7.0261383056640625,
          -0.958047091960907,
          0.5967051982879639,
          0.9568175673484802,
          -3.164108991622925,
          -2.017188787460327,
          -0.6405760049819946,
          0.041359543800354004,
          2.9347169399261475,
          -0.05949234962463379,
          2.0386154651641846,
          -2.0343008041381836,
          -0.13591839373111725,
          0.006754785776138306,
          -2.33170223236084,
          -1.2536840438842773,
          3.023918867111206,
          0.40644675493240356,
          -2.2452895641326904,
          -1.3015046119689941,
          -3.3741657733917236,
          3.423943519592285,
          1.7309463024139404,
          2.2901711463928223,
          0.4782360792160034,
          0.2918544113636017,
          1.7152891159057617,
          -1.1062653064727783,
          0.5123401284217834,
          2.777709484100342,
          -1.7596957683563232,
          1.1415854692459106
         ],
         "xaxis": "x",
         "y": [
          -0.13461840152740479,
          -0.7907571792602539,
          -1.396549105644226,
          -1.542561411857605,
          -0.5425279140472412,
          0.19316864013671875,
          -1.1854279041290283,
          -0.6953790783882141,
          0.43059805035591125,
          -1.3119195699691772,
          -0.49108579754829407,
          -0.7076151371002197,
          -2.955976724624634,
          0.6394506096839905,
          -1.4251320362091064,
          -2.151268482208252,
          -0.6825311183929443,
          0.36750441789627075,
          2.3688063621520996,
          -0.5706723928451538,
          0.5868885517120361,
          -2.1755905151367188,
          1.8871506452560425,
          2.7891881465911865,
          -0.4796602725982666,
          0.7169802188873291,
          -1.3381766080856323,
          0.6857539415359497,
          -1.9118473529815674,
          -0.6313159465789795,
          -1.3686132431030273,
          0.9479068517684937,
          0.47821494936943054,
          -3.063720941543579,
          -1.1794546842575073,
          -0.7204954624176025,
          -1.6236613988876343,
          -0.5392862558364868,
          0.4515303671360016,
          1.989965558052063,
          0.6589149832725525,
          -0.6867206692695618,
          -2.3060667514801025,
          -0.957400918006897,
          -1.684964895248413,
          3.4216132164001465,
          -0.6138171553611755,
          2.0402674674987793,
          -2.724801540374756,
          0.3862483501434326,
          0.13510198891162872,
          -3.512310266494751,
          -2.7480037212371826,
          -0.18921157717704773,
          -0.47346031665802,
          0.11674869060516357,
          1.8868446350097656,
          -2.6396560668945312,
          -0.14376631379127502,
          -3.3391921520233154,
          -0.32875508069992065,
          -3.669069528579712,
          -0.6368581056594849,
          -1.2018173933029175,
          -1.2064188718795776,
          0.43105536699295044,
          -1.1604292392730713,
          2.948160171508789,
          2.4902729988098145,
          -0.6811152696609497,
          1.1075117588043213,
          0.6303941607475281,
          -1.9827463626861572,
          -0.06920936703681946,
          0.873214840888977,
          -1.1666725873947144,
          -0.3556074798107147,
          -3.0970571041107178,
          2.4419703483581543,
          -2.617292642593384,
          -0.5211300253868103,
          -0.6248408555984497,
          -4.798824787139893,
          0.25151681900024414,
          0.3337869346141815,
          3.1019132137298584,
          0.809483528137207,
          -1.6834348440170288,
          -0.4455201029777527,
          -0.7948429584503174,
          -0.4310891032218933,
          -0.5425183176994324,
          0.526659369468689,
          -0.5225996375083923,
          -2.5285348892211914,
          -1.7915948629379272,
          -0.48718124628067017,
          0.9381603598594666,
          -0.9720427393913269,
          -0.4720161557197571,
          0.234697163105011,
          -2.859661102294922,
          -3.0135436058044434,
          -0.500602126121521,
          -0.4497337341308594,
          1.1107723712921143,
          -2.34926700592041,
          1.3471500873565674,
          -1.2589284181594849,
          -0.8412444591522217,
          0.3223755359649658,
          -2.107576370239258,
          -2.1707656383514404,
          -1.6607232093811035,
          0.7931750416755676,
          -0.5000045895576477,
          3.288848876953125,
          -2.195042133331299,
          0.34424954652786255,
          1.776304006576538,
          -3.4297332763671875,
          2.3516995906829834,
          1.9634768962860107,
          0.5398020148277283,
          -3.1157991886138916,
          -2.275834083557129,
          -1.2573504447937012,
          -0.7194468975067139,
          1.2661269903182983,
          0.7733253240585327,
          -0.4435015022754669,
          0.7282407283782959,
          0.8223271369934082,
          -4.938404083251953,
          -0.5884546041488647,
          0.48957154154777527,
          -0.267078697681427,
          -3.3034329414367676,
          1.5265347957611084,
          -1.1057825088500977,
          -0.38543418049812317,
          -0.32324376702308655,
          -0.7014445066452026,
          0.43325209617614746,
          -1.7135963439941406,
          0.2895779013633728,
          -0.46703821420669556,
          -1.4724719524383545,
          -0.629970133304596,
          -0.5937303900718689,
          -0.8594779372215271,
          -4.031814098358154,
          -1.8022750616073608,
          -0.6369317770004272,
          -0.19331051409244537,
          -2.147453784942627,
          0.2945541739463806,
          -0.6107962727546692,
          -0.6170474290847778,
          0.9145742654800415,
          -0.0357174314558506,
          -1.153861403465271,
          -0.9828262329101562,
          -1.6166421175003052,
          -1.4926698207855225,
          -0.8227994441986084,
          3.0936226844787598,
          -2.104987621307373,
          0.19048558175563812,
          1.321107268333435,
          -1.2782180309295654,
          0.20540666580200195,
          0.4572374224662781,
          0.7691661715507507,
          -3.199962854385376,
          -0.5848923921585083,
          -1.1368725299835205,
          3.0633010864257812,
          -4.603501796722412,
          -2.379873275756836,
          -0.16021472215652466,
          2.8541438579559326,
          0.1509537696838379,
          -0.5537583231925964,
          -0.9128071665763855,
          -0.17269060015678406,
          -0.508521556854248,
          -0.6872725486755371,
          -2.7119529247283936,
          -1.5943045616149902,
          -1.3799651861190796,
          1.3951845169067383,
          0.5496678352355957,
          1.9992517232894897,
          -0.462221622467041,
          -0.03691381216049194,
          -2.1756274700164795,
          -2.913213014602661,
          -2.4737627506256104,
          -2.578857898712158,
          2.1922707557678223,
          1.9163119792938232,
          -0.7045636177062988,
          4.933089256286621,
          2.0496768951416016,
          -1.6007739305496216
         ],
         "yaxis": "y"
        }
       ],
       "layout": {
        "legend": {
         "tracegroupgap": 0
        },
        "margin": {
         "t": 60
        },
        "template": {
         "data": {
          "bar": [
           {
            "error_x": {
             "color": "#2a3f5f"
            },
            "error_y": {
             "color": "#2a3f5f"
            },
            "marker": {
             "line": {
              "color": "#E5ECF6",
              "width": 0.5
             },
             "pattern": {
              "fillmode": "overlay",
              "size": 10,
              "solidity": 0.2
             }
            },
            "type": "bar"
           }
          ],
          "barpolar": [
           {
            "marker": {
             "line": {
              "color": "#E5ECF6",
              "width": 0.5
             },
             "pattern": {
              "fillmode": "overlay",
              "size": 10,
              "solidity": 0.2
             }
            },
            "type": "barpolar"
           }
          ],
          "carpet": [
           {
            "aaxis": {
             "endlinecolor": "#2a3f5f",
             "gridcolor": "white",
             "linecolor": "white",
             "minorgridcolor": "white",
             "startlinecolor": "#2a3f5f"
            },
            "baxis": {
             "endlinecolor": "#2a3f5f",
             "gridcolor": "white",
             "linecolor": "white",
             "minorgridcolor": "white",
             "startlinecolor": "#2a3f5f"
            },
            "type": "carpet"
           }
          ],
          "choropleth": [
           {
            "colorbar": {
             "outlinewidth": 0,
             "ticks": ""
            },
            "type": "choropleth"
           }
          ],
          "contour": [
           {
            "colorbar": {
             "outlinewidth": 0,
             "ticks": ""
            },
            "colorscale": [
             [
              0,
              "#0d0887"
             ],
             [
              0.1111111111111111,
              "#46039f"
             ],
             [
              0.2222222222222222,
              "#7201a8"
             ],
             [
              0.3333333333333333,
              "#9c179e"
             ],
             [
              0.4444444444444444,
              "#bd3786"
             ],
             [
              0.5555555555555556,
              "#d8576b"
             ],
             [
              0.6666666666666666,
              "#ed7953"
             ],
             [
              0.7777777777777778,
              "#fb9f3a"
             ],
             [
              0.8888888888888888,
              "#fdca26"
             ],
             [
              1,
              "#f0f921"
             ]
            ],
            "type": "contour"
           }
          ],
          "contourcarpet": [
           {
            "colorbar": {
             "outlinewidth": 0,
             "ticks": ""
            },
            "type": "contourcarpet"
           }
          ],
          "heatmap": [
           {
            "colorbar": {
             "outlinewidth": 0,
             "ticks": ""
            },
            "colorscale": [
             [
              0,
              "#0d0887"
             ],
             [
              0.1111111111111111,
              "#46039f"
             ],
             [
              0.2222222222222222,
              "#7201a8"
             ],
             [
              0.3333333333333333,
              "#9c179e"
             ],
             [
              0.4444444444444444,
              "#bd3786"
             ],
             [
              0.5555555555555556,
              "#d8576b"
             ],
             [
              0.6666666666666666,
              "#ed7953"
             ],
             [
              0.7777777777777778,
              "#fb9f3a"
             ],
             [
              0.8888888888888888,
              "#fdca26"
             ],
             [
              1,
              "#f0f921"
             ]
            ],
            "type": "heatmap"
           }
          ],
          "heatmapgl": [
           {
            "colorbar": {
             "outlinewidth": 0,
             "ticks": ""
            },
            "colorscale": [
             [
              0,
              "#0d0887"
             ],
             [
              0.1111111111111111,
              "#46039f"
             ],
             [
              0.2222222222222222,
              "#7201a8"
             ],
             [
              0.3333333333333333,
              "#9c179e"
             ],
             [
              0.4444444444444444,
              "#bd3786"
             ],
             [
              0.5555555555555556,
              "#d8576b"
             ],
             [
              0.6666666666666666,
              "#ed7953"
             ],
             [
              0.7777777777777778,
              "#fb9f3a"
             ],
             [
              0.8888888888888888,
              "#fdca26"
             ],
             [
              1,
              "#f0f921"
             ]
            ],
            "type": "heatmapgl"
           }
          ],
          "histogram": [
           {
            "marker": {
             "pattern": {
              "fillmode": "overlay",
              "size": 10,
              "solidity": 0.2
             }
            },
            "type": "histogram"
           }
          ],
          "histogram2d": [
           {
            "colorbar": {
             "outlinewidth": 0,
             "ticks": ""
            },
            "colorscale": [
             [
              0,
              "#0d0887"
             ],
             [
              0.1111111111111111,
              "#46039f"
             ],
             [
              0.2222222222222222,
              "#7201a8"
             ],
             [
              0.3333333333333333,
              "#9c179e"
             ],
             [
              0.4444444444444444,
              "#bd3786"
             ],
             [
              0.5555555555555556,
              "#d8576b"
             ],
             [
              0.6666666666666666,
              "#ed7953"
             ],
             [
              0.7777777777777778,
              "#fb9f3a"
             ],
             [
              0.8888888888888888,
              "#fdca26"
             ],
             [
              1,
              "#f0f921"
             ]
            ],
            "type": "histogram2d"
           }
          ],
          "histogram2dcontour": [
           {
            "colorbar": {
             "outlinewidth": 0,
             "ticks": ""
            },
            "colorscale": [
             [
              0,
              "#0d0887"
             ],
             [
              0.1111111111111111,
              "#46039f"
             ],
             [
              0.2222222222222222,
              "#7201a8"
             ],
             [
              0.3333333333333333,
              "#9c179e"
             ],
             [
              0.4444444444444444,
              "#bd3786"
             ],
             [
              0.5555555555555556,
              "#d8576b"
             ],
             [
              0.6666666666666666,
              "#ed7953"
             ],
             [
              0.7777777777777778,
              "#fb9f3a"
             ],
             [
              0.8888888888888888,
              "#fdca26"
             ],
             [
              1,
              "#f0f921"
             ]
            ],
            "type": "histogram2dcontour"
           }
          ],
          "mesh3d": [
           {
            "colorbar": {
             "outlinewidth": 0,
             "ticks": ""
            },
            "type": "mesh3d"
           }
          ],
          "parcoords": [
           {
            "line": {
             "colorbar": {
              "outlinewidth": 0,
              "ticks": ""
             }
            },
            "type": "parcoords"
           }
          ],
          "pie": [
           {
            "automargin": true,
            "type": "pie"
           }
          ],
          "scatter": [
           {
            "marker": {
             "colorbar": {
              "outlinewidth": 0,
              "ticks": ""
             }
            },
            "type": "scatter"
           }
          ],
          "scatter3d": [
           {
            "line": {
             "colorbar": {
              "outlinewidth": 0,
              "ticks": ""
             }
            },
            "marker": {
             "colorbar": {
              "outlinewidth": 0,
              "ticks": ""
             }
            },
            "type": "scatter3d"
           }
          ],
          "scattercarpet": [
           {
            "marker": {
             "colorbar": {
              "outlinewidth": 0,
              "ticks": ""
             }
            },
            "type": "scattercarpet"
           }
          ],
          "scattergeo": [
           {
            "marker": {
             "colorbar": {
              "outlinewidth": 0,
              "ticks": ""
             }
            },
            "type": "scattergeo"
           }
          ],
          "scattergl": [
           {
            "marker": {
             "colorbar": {
              "outlinewidth": 0,
              "ticks": ""
             }
            },
            "type": "scattergl"
           }
          ],
          "scattermapbox": [
           {
            "marker": {
             "colorbar": {
              "outlinewidth": 0,
              "ticks": ""
             }
            },
            "type": "scattermapbox"
           }
          ],
          "scatterpolar": [
           {
            "marker": {
             "colorbar": {
              "outlinewidth": 0,
              "ticks": ""
             }
            },
            "type": "scatterpolar"
           }
          ],
          "scatterpolargl": [
           {
            "marker": {
             "colorbar": {
              "outlinewidth": 0,
              "ticks": ""
             }
            },
            "type": "scatterpolargl"
           }
          ],
          "scatterternary": [
           {
            "marker": {
             "colorbar": {
              "outlinewidth": 0,
              "ticks": ""
             }
            },
            "type": "scatterternary"
           }
          ],
          "surface": [
           {
            "colorbar": {
             "outlinewidth": 0,
             "ticks": ""
            },
            "colorscale": [
             [
              0,
              "#0d0887"
             ],
             [
              0.1111111111111111,
              "#46039f"
             ],
             [
              0.2222222222222222,
              "#7201a8"
             ],
             [
              0.3333333333333333,
              "#9c179e"
             ],
             [
              0.4444444444444444,
              "#bd3786"
             ],
             [
              0.5555555555555556,
              "#d8576b"
             ],
             [
              0.6666666666666666,
              "#ed7953"
             ],
             [
              0.7777777777777778,
              "#fb9f3a"
             ],
             [
              0.8888888888888888,
              "#fdca26"
             ],
             [
              1,
              "#f0f921"
             ]
            ],
            "type": "surface"
           }
          ],
          "table": [
           {
            "cells": {
             "fill": {
              "color": "#EBF0F8"
             },
             "line": {
              "color": "white"
             }
            },
            "header": {
             "fill": {
              "color": "#C8D4E3"
             },
             "line": {
              "color": "white"
             }
            },
            "type": "table"
           }
          ]
         },
         "layout": {
          "annotationdefaults": {
           "arrowcolor": "#2a3f5f",
           "arrowhead": 0,
           "arrowwidth": 1
          },
          "autotypenumbers": "strict",
          "coloraxis": {
           "colorbar": {
            "outlinewidth": 0,
            "ticks": ""
           }
          },
          "colorscale": {
           "diverging": [
            [
             0,
             "#8e0152"
            ],
            [
             0.1,
             "#c51b7d"
            ],
            [
             0.2,
             "#de77ae"
            ],
            [
             0.3,
             "#f1b6da"
            ],
            [
             0.4,
             "#fde0ef"
            ],
            [
             0.5,
             "#f7f7f7"
            ],
            [
             0.6,
             "#e6f5d0"
            ],
            [
             0.7,
             "#b8e186"
            ],
            [
             0.8,
             "#7fbc41"
            ],
            [
             0.9,
             "#4d9221"
            ],
            [
             1,
             "#276419"
            ]
           ],
           "sequential": [
            [
             0,
             "#0d0887"
            ],
            [
             0.1111111111111111,
             "#46039f"
            ],
            [
             0.2222222222222222,
             "#7201a8"
            ],
            [
             0.3333333333333333,
             "#9c179e"
            ],
            [
             0.4444444444444444,
             "#bd3786"
            ],
            [
             0.5555555555555556,
             "#d8576b"
            ],
            [
             0.6666666666666666,
             "#ed7953"
            ],
            [
             0.7777777777777778,
             "#fb9f3a"
            ],
            [
             0.8888888888888888,
             "#fdca26"
            ],
            [
             1,
             "#f0f921"
            ]
           ],
           "sequentialminus": [
            [
             0,
             "#0d0887"
            ],
            [
             0.1111111111111111,
             "#46039f"
            ],
            [
             0.2222222222222222,
             "#7201a8"
            ],
            [
             0.3333333333333333,
             "#9c179e"
            ],
            [
             0.4444444444444444,
             "#bd3786"
            ],
            [
             0.5555555555555556,
             "#d8576b"
            ],
            [
             0.6666666666666666,
             "#ed7953"
            ],
            [
             0.7777777777777778,
             "#fb9f3a"
            ],
            [
             0.8888888888888888,
             "#fdca26"
            ],
            [
             1,
             "#f0f921"
            ]
           ]
          },
          "colorway": [
           "#636efa",
           "#EF553B",
           "#00cc96",
           "#ab63fa",
           "#FFA15A",
           "#19d3f3",
           "#FF6692",
           "#B6E880",
           "#FF97FF",
           "#FECB52"
          ],
          "font": {
           "color": "#2a3f5f"
          },
          "geo": {
           "bgcolor": "white",
           "lakecolor": "white",
           "landcolor": "#E5ECF6",
           "showlakes": true,
           "showland": true,
           "subunitcolor": "white"
          },
          "hoverlabel": {
           "align": "left"
          },
          "hovermode": "closest",
          "mapbox": {
           "style": "light"
          },
          "paper_bgcolor": "white",
          "plot_bgcolor": "#E5ECF6",
          "polar": {
           "angularaxis": {
            "gridcolor": "white",
            "linecolor": "white",
            "ticks": ""
           },
           "bgcolor": "#E5ECF6",
           "radialaxis": {
            "gridcolor": "white",
            "linecolor": "white",
            "ticks": ""
           }
          },
          "scene": {
           "xaxis": {
            "backgroundcolor": "#E5ECF6",
            "gridcolor": "white",
            "gridwidth": 2,
            "linecolor": "white",
            "showbackground": true,
            "ticks": "",
            "zerolinecolor": "white"
           },
           "yaxis": {
            "backgroundcolor": "#E5ECF6",
            "gridcolor": "white",
            "gridwidth": 2,
            "linecolor": "white",
            "showbackground": true,
            "ticks": "",
            "zerolinecolor": "white"
           },
           "zaxis": {
            "backgroundcolor": "#E5ECF6",
            "gridcolor": "white",
            "gridwidth": 2,
            "linecolor": "white",
            "showbackground": true,
            "ticks": "",
            "zerolinecolor": "white"
           }
          },
          "shapedefaults": {
           "line": {
            "color": "#2a3f5f"
           }
          },
          "ternary": {
           "aaxis": {
            "gridcolor": "white",
            "linecolor": "white",
            "ticks": ""
           },
           "baxis": {
            "gridcolor": "white",
            "linecolor": "white",
            "ticks": ""
           },
           "bgcolor": "#E5ECF6",
           "caxis": {
            "gridcolor": "white",
            "linecolor": "white",
            "ticks": ""
           }
          },
          "title": {
           "x": 0.05
          },
          "xaxis": {
           "automargin": true,
           "gridcolor": "white",
           "linecolor": "white",
           "ticks": "",
           "title": {
            "standoff": 15
           },
           "zerolinecolor": "white",
           "zerolinewidth": 2
          },
          "yaxis": {
           "automargin": true,
           "gridcolor": "white",
           "linecolor": "white",
           "ticks": "",
           "title": {
            "standoff": 15
           },
           "zerolinecolor": "white",
           "zerolinewidth": 2
          }
         }
        },
        "xaxis": {
         "anchor": "y",
         "domain": [
          0,
          1
         ],
         "title": {
          "text": "x"
         }
        },
        "yaxis": {
         "anchor": "x",
         "domain": [
          0,
          1
         ],
         "title": {
          "text": "y"
         }
        }
       }
      }
     },
     "metadata": {},
     "output_type": "display_data"
    }
   ],
   "source": [
    "import plotly.express as px\n",
    "\n",
    "fig = px.scatter(projection, x='x', y='y', text='title')\n",
    "fig.show()"
   ]
  }
 ],
 "metadata": {
  "kernelspec": {
   "display_name": "Python 3.9.12 ('base')",
   "language": "python",
   "name": "python3"
  },
  "language_info": {
   "codemirror_mode": {
    "name": "ipython",
    "version": 3
   },
   "file_extension": ".py",
   "mimetype": "text/x-python",
   "name": "python",
   "nbconvert_exporter": "python",
   "pygments_lexer": "ipython3",
   "version": "3.9.12"
  },
  "orig_nbformat": 4,
  "vscode": {
   "interpreter": {
    "hash": "ad2bdc8ecc057115af97d19610ffacc2b4e99fae6737bb82f5d7fb13d2f2c186"
   }
  }
 },
 "nbformat": 4,
 "nbformat_minor": 2
}
